{
 "cells": [
  {
   "cell_type": "code",
   "execution_count": 2,
   "id": "92bbafd3-ee86-48b0-bdc4-eba0f649759f",
   "metadata": {},
   "outputs": [],
   "source": [
    "#Q1\n",
    "#Ans:- Abstraction in python is defined as a process of handling complexity by hiding unnecessary information from the user. This is one of the core concepts of object-oriented programming (OOP) languages.\n",
    "#Example of abstraction:- car is a great example of abstraction. We can start a car by turning the key or pressing the start button. We don't need to know how the engine is getting started, what all components our car has. The car internal implementation and complex logic is completely hidden from the user.\n"
   ]
  },
  {
   "cell_type": "code",
   "execution_count": 3,
   "id": "aa08419f-a79a-4f95-a18a-133b95bdc35b",
   "metadata": {},
   "outputs": [],
   "source": [
    "#Q2\n",
    "#Ans:-Abstraction is a method of removing the unnecessary details in the code and focusing on the relevant parts.It is a way of representing some specific data.\n",
    "#for example- instead of writing a function that multiplies two numbers, we can write a function “multiply” and use it to multiply any number with any number.\n",
    "\n",
    "#Encapsulation is a way of hiding the complexity of something and exposing only the parts you wish to expose.\n",
    "#For example, if you have a class that has one or more private fields that you use to store the data, then you are in encapsulation. The class contains the data and has methods that expose the public data."
   ]
  },
  {
   "cell_type": "code",
   "execution_count": 4,
   "id": "3fb078fb-b987-4738-8700-4896076a402c",
   "metadata": {},
   "outputs": [],
   "source": [
    "#Q3\n",
    "#Ans:-full form of abc is Abstract Base Classes.This module provides the infrastructure for defining abstract base classes (ABCs) in Python.Abstract class cannot be instantiated in python. An Abstract method can be call by its subclasses.\n",
    "\n",
    "#abc module is used because it empowers writers, speakers, knowledge makers  to create, share, debate, and test new ideas, theories, concepts. At the same time, abstract language is more challenging to interpret than concrete, sensory language."
   ]
  },
  {
   "cell_type": "code",
   "execution_count": 5,
   "id": "2774a1ed-b081-439b-b65d-7b4ad067cb17",
   "metadata": {},
   "outputs": [],
   "source": [
    "#Q4\n",
    "#Ans:-In Python, abstraction can be achieved by having/using abstract classes and methods in our programs."
   ]
  },
  {
   "cell_type": "code",
   "execution_count": 6,
   "id": "57bd390e-5afe-437e-ab97-ff8baaa42e44",
   "metadata": {},
   "outputs": [],
   "source": [
    "#Q5\n",
    "#Ans:-Abstract classes are not complete, as they may have some methods that are not defined. So we cannot create an instance or object of an abstract class in Python.\n",
    "\n",
    "#In abstraction, the users are familiar with the purpose of the class's methods, but they don't know how they solve the purpose, which means that they know the inputs and expected outputs, but the inner working is hidden.\n",
    "\n",
    "# There are plenty of real-life examples, like when we press a button on a TV remote to change the channel; we don’t know how it does that. We are just interested in the fact that when we press a particular button, it changes the channel.\n",
    "\n",
    "# Smartphones are another example of abstraction; we are unaware of any of the internal functionalities of the phone. We are just concerned with what we need to do to do a task.\n",
    "\n",
    "# For example, we don’t know how the phone records a video by pressing the record button, we just touch/press a button, and it does that. There are numerous other examples of abstraction for us to observe in the real world.\n",
    "\n",
    "# We can deduce from the above examples that abstraction helps us make everything more user-friendly and less complex. In the context of programming, Abstraction is used to make the life of other developers easy. For example, in Python we do not know how the sort() function of the list class works, we just use this function, and it sorts a list for us.\n",
    "\n",
    "# Although Python is not a fully object-oriented programming language, as we can write code in Python without creating any classes, it supports all the features of object-oriented programming including abstraction and abstract classes.\n",
    "\n",
    "# We cannot create an abstract class in Python directly. However, Python does provide a module that allows us to define abstract classes. The module we can use to create an abstract class in Python is abc(abstract base class) module."
   ]
  },
  {
   "cell_type": "code",
   "execution_count": null,
   "id": "e11ab779-b323-4935-8800-353a6904727b",
   "metadata": {},
   "outputs": [],
   "source": []
  }
 ],
 "metadata": {
  "kernelspec": {
   "display_name": "Python 3 (ipykernel)",
   "language": "python",
   "name": "python3"
  },
  "language_info": {
   "codemirror_mode": {
    "name": "ipython",
    "version": 3
   },
   "file_extension": ".py",
   "mimetype": "text/x-python",
   "name": "python",
   "nbconvert_exporter": "python",
   "pygments_lexer": "ipython3",
   "version": "3.10.8"
  }
 },
 "nbformat": 4,
 "nbformat_minor": 5
}
